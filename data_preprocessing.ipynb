{
 "cells": [
  {
   "cell_type": "code",
   "execution_count": 35,
   "metadata": {},
   "outputs": [],
   "source": [
    "import pandas as pd\n",
    "import numpy as np\n",
    "import matplotlib.pyplot as plt"
   ]
  },
  {
   "cell_type": "markdown",
   "metadata": {},
   "source": []
  },
  {
   "cell_type": "code",
   "execution_count": null,
   "metadata": {},
   "outputs": [],
   "source": [
    "df = pd.read_csv(\"data_files/AAPL_combined.csv.gz\")\n",
    "df.columns\n",
    "AAPL_returns = pd.DataFrame({\n",
    "    \"time_stamp\": df[\"Unnamed: 0\"],\n",
    "    \"log_return\": np.log(1+(df['4. close']-df['1. open'])/df['1. open'])\n",
    "})"
   ]
  },
  {
   "cell_type": "code",
   "execution_count": 25,
   "metadata": {},
   "outputs": [
    {
     "data": {
      "text/html": [
       "<div>\n",
       "<style scoped>\n",
       "    .dataframe tbody tr th:only-of-type {\n",
       "        vertical-align: middle;\n",
       "    }\n",
       "\n",
       "    .dataframe tbody tr th {\n",
       "        vertical-align: top;\n",
       "    }\n",
       "\n",
       "    .dataframe thead th {\n",
       "        text-align: right;\n",
       "    }\n",
       "</style>\n",
       "<table border=\"1\" class=\"dataframe\">\n",
       "  <thead>\n",
       "    <tr style=\"text-align: right;\">\n",
       "      <th></th>\n",
       "      <th>time_stamp</th>\n",
       "      <th>log_return</th>\n",
       "    </tr>\n",
       "  </thead>\n",
       "  <tbody>\n",
       "    <tr>\n",
       "      <th>0</th>\n",
       "      <td>2021-08-02 09:30:00</td>\n",
       "      <td>0.000478</td>\n",
       "    </tr>\n",
       "    <tr>\n",
       "      <th>1</th>\n",
       "      <td>2021-08-02 09:31:00</td>\n",
       "      <td>0.000853</td>\n",
       "    </tr>\n",
       "    <tr>\n",
       "      <th>2</th>\n",
       "      <td>2021-08-02 09:32:00</td>\n",
       "      <td>-0.002219</td>\n",
       "    </tr>\n",
       "    <tr>\n",
       "      <th>3</th>\n",
       "      <td>2021-08-02 09:33:00</td>\n",
       "      <td>0.000380</td>\n",
       "    </tr>\n",
       "    <tr>\n",
       "      <th>4</th>\n",
       "      <td>2021-08-02 09:34:00</td>\n",
       "      <td>0.000546</td>\n",
       "    </tr>\n",
       "    <tr>\n",
       "      <th>...</th>\n",
       "      <td>...</td>\n",
       "      <td>...</td>\n",
       "    </tr>\n",
       "    <tr>\n",
       "      <th>562926</th>\n",
       "      <td>2025-02-28 15:55:00</td>\n",
       "      <td>0.000622</td>\n",
       "    </tr>\n",
       "    <tr>\n",
       "      <th>562927</th>\n",
       "      <td>2025-02-28 15:56:00</td>\n",
       "      <td>-0.000062</td>\n",
       "    </tr>\n",
       "    <tr>\n",
       "      <th>562928</th>\n",
       "      <td>2025-02-28 15:57:00</td>\n",
       "      <td>0.000994</td>\n",
       "    </tr>\n",
       "    <tr>\n",
       "      <th>562929</th>\n",
       "      <td>2025-02-28 15:58:00</td>\n",
       "      <td>0.001614</td>\n",
       "    </tr>\n",
       "    <tr>\n",
       "      <th>562930</th>\n",
       "      <td>2025-02-28 15:59:00</td>\n",
       "      <td>0.000082</td>\n",
       "    </tr>\n",
       "  </tbody>\n",
       "</table>\n",
       "<p>562931 rows × 2 columns</p>\n",
       "</div>"
      ],
      "text/plain": [
       "                 time_stamp  log_return\n",
       "0       2021-08-02 09:30:00    0.000478\n",
       "1       2021-08-02 09:31:00    0.000853\n",
       "2       2021-08-02 09:32:00   -0.002219\n",
       "3       2021-08-02 09:33:00    0.000380\n",
       "4       2021-08-02 09:34:00    0.000546\n",
       "...                     ...         ...\n",
       "562926  2025-02-28 15:55:00    0.000622\n",
       "562927  2025-02-28 15:56:00   -0.000062\n",
       "562928  2025-02-28 15:57:00    0.000994\n",
       "562929  2025-02-28 15:58:00    0.001614\n",
       "562930  2025-02-28 15:59:00    0.000082\n",
       "\n",
       "[562931 rows x 2 columns]"
      ]
     },
     "execution_count": 25,
     "metadata": {},
     "output_type": "execute_result"
    }
   ],
   "source": [
    "AAPL_returns"
   ]
  },
  {
   "cell_type": "code",
   "execution_count": 27,
   "metadata": {},
   "outputs": [],
   "source": [
    "AAPL_returns['time_stamp'] = pd.to_datetime(AAPL_returns['time_stamp'], errors='coerce')"
   ]
  },
  {
   "cell_type": "code",
   "execution_count": 28,
   "metadata": {},
   "outputs": [],
   "source": [
    "daily_variance = AAPL_returns.groupby(AAPL_returns['time_stamp'].dt.floor(\"1D\"))[\"log_return\"].var()"
   ]
  },
  {
   "cell_type": "code",
   "execution_count": 33,
   "metadata": {},
   "outputs": [
    {
     "data": {
      "text/plain": [
       "DatetimeIndex(['2020-01-02', '2020-01-03', '2020-01-06', '2020-01-07',\n",
       "               '2020-01-08', '2020-01-09', '2020-01-10', '2020-01-13',\n",
       "               '2020-01-14', '2020-01-15',\n",
       "               ...\n",
       "               '2025-09-17', '2025-09-18', '2025-09-19', '2025-09-22',\n",
       "               '2025-09-23', '2025-09-24', '2025-09-25', '2025-09-26',\n",
       "               '2025-09-29', '2025-09-30'],\n",
       "              dtype='datetime64[ns]', name='time_stamp', length=1444, freq=None)"
      ]
     },
     "execution_count": 33,
     "metadata": {},
     "output_type": "execute_result"
    }
   ],
   "source": [
    "daily_variance.index"
   ]
  },
  {
   "cell_type": "code",
   "execution_count": 37,
   "metadata": {},
   "outputs": [
    {
     "data": {
      "text/plain": [
       "Text(0.5, 1.0, 'Apple Variance')"
      ]
     },
     "execution_count": 37,
     "metadata": {},
     "output_type": "execute_result"
    },
    {
     "data": {
      "image/png": "[encoded data removed]",
      "text/plain": [
       "<Figure size 432x288 with 1 Axes>"
      ]
     },
     "metadata": {
      "needs_background": "light"
     },
     "output_type": "display_data"
    }
   ],
   "source": [
    "plt.plot(daily_variance.index, daily_variance.values)\n",
    "plt.xlabel(\"Date\")\n",
    "plt.ylabel(\"Variance\")\n",
    "plt.title(\"Apple Variance\")"
   ]
  },
  {
   "cell_type": "code",
   "execution_count": 67,
   "metadata": {},
   "outputs": [
    {
     "data": {
      "text/plain": [
       "4.8499410420880676e-05"
      ]
     },
     "execution_count": 67,
     "metadata": {},
     "output_type": "execute_result"
    }
   ],
   "source": [
    "daily_variance.values.max()"
   ]
  },
  {
   "cell_type": "code",
   "execution_count": null,
   "metadata": {},
   "outputs": [
    {
     "data": {
      "text/html": [
       "<div>\n",
       "<style scoped>\n",
       "    .dataframe tbody tr th:only-of-type {\n",
       "        vertical-align: middle;\n",
       "    }\n",
       "\n",
       "    .dataframe tbody tr th {\n",
       "        vertical-align: top;\n",
       "    }\n",
       "\n",
       "    .dataframe thead th {\n",
       "        text-align: right;\n",
       "    }\n",
       "</style>\n",
       "<table border=\"1\" class=\"dataframe\">\n",
       "  <thead>\n",
       "    <tr style=\"text-align: right;\">\n",
       "      <th></th>\n",
       "      <th>timestamps</th>\n",
       "      <th>correlation</th>\n",
       "    </tr>\n",
       "  </thead>\n",
       "  <tbody>\n",
       "    <tr>\n",
       "      <th>0</th>\n",
       "      <td>[2020-01-02 00:00:00, 2020-01-03 00:00:00]</td>\n",
       "      <td>NaN</td>\n",
       "    </tr>\n",
       "    <tr>\n",
       "      <th>1</th>\n",
       "      <td>[2020-01-03 00:00:00, 2020-01-06 00:00:00]</td>\n",
       "      <td>NaN</td>\n",
       "    </tr>\n",
       "    <tr>\n",
       "      <th>2</th>\n",
       "      <td>[2020-01-06 00:00:00, 2020-01-07 00:00:00]</td>\n",
       "      <td>NaN</td>\n",
       "    </tr>\n",
       "    <tr>\n",
       "      <th>3</th>\n",
       "      <td>[2020-01-07 00:00:00, 2020-01-08 00:00:00]</td>\n",
       "      <td>NaN</td>\n",
       "    </tr>\n",
       "    <tr>\n",
       "      <th>4</th>\n",
       "      <td>[2020-01-08 00:00:00, 2020-01-09 00:00:00]</td>\n",
       "      <td>NaN</td>\n",
       "    </tr>\n",
       "    <tr>\n",
       "      <th>...</th>\n",
       "      <td>...</td>\n",
       "      <td>...</td>\n",
       "    </tr>\n",
       "    <tr>\n",
       "      <th>1438</th>\n",
       "      <td>[2025-09-23 00:00:00, 2025-09-24 00:00:00]</td>\n",
       "      <td>NaN</td>\n",
       "    </tr>\n",
       "    <tr>\n",
       "      <th>1439</th>\n",
       "      <td>[2025-09-24 00:00:00, 2025-09-25 00:00:00]</td>\n",
       "      <td>NaN</td>\n",
       "    </tr>\n",
       "    <tr>\n",
       "      <th>1440</th>\n",
       "      <td>[2025-09-25 00:00:00, 2025-09-26 00:00:00]</td>\n",
       "      <td>NaN</td>\n",
       "    </tr>\n",
       "    <tr>\n",
       "      <th>1441</th>\n",
       "      <td>[2025-09-26 00:00:00, 2025-09-29 00:00:00]</td>\n",
       "      <td>NaN</td>\n",
       "    </tr>\n",
       "    <tr>\n",
       "      <th>1442</th>\n",
       "      <td>[2025-09-29 00:00:00, 2025-09-30 00:00:00]</td>\n",
       "      <td>NaN</td>\n",
       "    </tr>\n",
       "  </tbody>\n",
       "</table>\n",
       "<p>1443 rows × 2 columns</p>\n",
       "</div>"
      ],
      "text/plain": [
       "                                      timestamps  correlation\n",
       "0     [2020-01-02 00:00:00, 2020-01-03 00:00:00]          NaN\n",
       "1     [2020-01-03 00:00:00, 2020-01-06 00:00:00]          NaN\n",
       "2     [2020-01-06 00:00:00, 2020-01-07 00:00:00]          NaN\n",
       "3     [2020-01-07 00:00:00, 2020-01-08 00:00:00]          NaN\n",
       "4     [2020-01-08 00:00:00, 2020-01-09 00:00:00]          NaN\n",
       "...                                          ...          ...\n",
       "1438  [2025-09-23 00:00:00, 2025-09-24 00:00:00]          NaN\n",
       "1439  [2025-09-24 00:00:00, 2025-09-25 00:00:00]          NaN\n",
       "1440  [2025-09-25 00:00:00, 2025-09-26 00:00:00]          NaN\n",
       "1441  [2025-09-26 00:00:00, 2025-09-29 00:00:00]          NaN\n",
       "1442  [2025-09-29 00:00:00, 2025-09-30 00:00:00]          NaN\n",
       "\n",
       "[1443 rows x 2 columns]"
      ]
     },
     "execution_count": 71,
     "metadata": {},
     "output_type": "execute_result"
    }
   ],
   "source": [
    "APPL_daily_variance = pd.DataFrame({\n",
    "    \"timestamp\": daily_variance.index,\n",
    "    \"variance\": daily_variance.values\n",
    "\n",
    "})\n",
    "np.corrcoef(APPL_daily_variance.variance[0], APPL_daily_variance.variance[1])\n",
    "APPL_daily_variance.variance[0]\n",
    "# for i in range(len(APPL_daily_variance)-1):\n",
    "#     print(APPL_daily_variance.variance[i])\n",
    "timestamp = []\n",
    "correlation = []\n",
    "for i in range(len(APPL_daily_variance)-1):\n",
    "    timestamp.append([APPL_daily_variance.timestamp[i], APPL_daily_variance.timestamp[i+1]])\n",
    "    correlation.append(np.corrcoef(APPL_daily_variance.variance[i], APPL_daily_variance.variance[i+1])[0,1])\n",
    "APPL_correlation = pd.DataFrame({\n",
    "    \"timestamps\": timestamp,\n",
    "    \"correlation\": correlation\n",
    "})\n",
    "APPL_correlation"
   ]
  },
  {
   "cell_type": "code",
   "execution_count": 64,
   "metadata": {},
   "outputs": [
    {
     "data": {
      "text/html": [
       "<div>\n",
       "<style scoped>\n",
       "    .dataframe tbody tr th:only-of-type {\n",
       "        vertical-align: middle;\n",
       "    }\n",
       "\n",
       "    .dataframe tbody tr th {\n",
       "        vertical-align: top;\n",
       "    }\n",
       "\n",
       "    .dataframe thead th {\n",
       "        text-align: right;\n",
       "    }\n",
       "</style>\n",
       "<table border=\"1\" class=\"dataframe\">\n",
       "  <thead>\n",
       "    <tr style=\"text-align: right;\">\n",
       "      <th></th>\n",
       "      <th>timestamp</th>\n",
       "      <th>variance</th>\n",
       "    </tr>\n",
       "  </thead>\n",
       "  <tbody>\n",
       "    <tr>\n",
       "      <th>0</th>\n",
       "      <td>2020-01-02</td>\n",
       "      <td>1.997834e-07</td>\n",
       "    </tr>\n",
       "    <tr>\n",
       "      <th>1</th>\n",
       "      <td>2020-01-03</td>\n",
       "      <td>3.183479e-07</td>\n",
       "    </tr>\n",
       "    <tr>\n",
       "      <th>2</th>\n",
       "      <td>2020-01-06</td>\n",
       "      <td>1.903965e-07</td>\n",
       "    </tr>\n",
       "    <tr>\n",
       "      <th>3</th>\n",
       "      <td>2020-01-07</td>\n",
       "      <td>2.055122e-07</td>\n",
       "    </tr>\n",
       "    <tr>\n",
       "      <th>4</th>\n",
       "      <td>2020-01-08</td>\n",
       "      <td>2.325188e-07</td>\n",
       "    </tr>\n",
       "    <tr>\n",
       "      <th>...</th>\n",
       "      <td>...</td>\n",
       "      <td>...</td>\n",
       "    </tr>\n",
       "    <tr>\n",
       "      <th>1439</th>\n",
       "      <td>2025-09-24</td>\n",
       "      <td>2.589987e-07</td>\n",
       "    </tr>\n",
       "    <tr>\n",
       "      <th>1440</th>\n",
       "      <td>2025-09-25</td>\n",
       "      <td>3.928186e-07</td>\n",
       "    </tr>\n",
       "    <tr>\n",
       "      <th>1441</th>\n",
       "      <td>2025-09-26</td>\n",
       "      <td>2.358282e-07</td>\n",
       "    </tr>\n",
       "    <tr>\n",
       "      <th>1442</th>\n",
       "      <td>2025-09-29</td>\n",
       "      <td>1.792936e-07</td>\n",
       "    </tr>\n",
       "    <tr>\n",
       "      <th>1443</th>\n",
       "      <td>2025-09-30</td>\n",
       "      <td>2.060873e-07</td>\n",
       "    </tr>\n",
       "  </tbody>\n",
       "</table>\n",
       "<p>1444 rows × 2 columns</p>\n",
       "</div>"
      ],
      "text/plain": [
       "      timestamp      variance\n",
       "0    2020-01-02  1.997834e-07\n",
       "1    2020-01-03  3.183479e-07\n",
       "2    2020-01-06  1.903965e-07\n",
       "3    2020-01-07  2.055122e-07\n",
       "4    2020-01-08  2.325188e-07\n",
       "...         ...           ...\n",
       "1439 2025-09-24  2.589987e-07\n",
       "1440 2025-09-25  3.928186e-07\n",
       "1441 2025-09-26  2.358282e-07\n",
       "1442 2025-09-29  1.792936e-07\n",
       "1443 2025-09-30  2.060873e-07\n",
       "\n",
       "[1444 rows x 2 columns]"
      ]
     },
     "execution_count": 64,
     "metadata": {},
     "output_type": "execute_result"
    }
   ],
   "source": [
    "APPL_daily_variance"
   ]
  },
  {
   "cell_type": "code",
   "execution_count": 44,
   "metadata": {},
   "outputs": [
    {
     "data": {
      "text/plain": [
       "0.23976389122492983"
      ]
     },
     "execution_count": 44,
     "metadata": {},
     "output_type": "execute_result"
    }
   ],
   "source": [
    "correlation_APPL"
   ]
  },
  {
   "cell_type": "code",
   "execution_count": 38,
   "metadata": {},
   "outputs": [],
   "source": [
    "df = pd.read_csv(\"data/BEP_combined.csv.gz\")\n",
    "df.columns\n",
    "BEP_returns = pd.DataFrame({\n",
    "    \"time_stamp\": df[\"Unnamed: 0\"],\n",
    "    \"log_return\": np.log(1+(df['4. close']-df['1. open'])/df['1. open'])\n",
    "})"
   ]
  },
  {
   "cell_type": "code",
   "execution_count": 39,
   "metadata": {},
   "outputs": [
    {
     "data": {
      "text/plain": [
       "Text(0.5, 1.0, 'BEP Variance')"
      ]
     },
     "execution_count": 39,
     "metadata": {},
     "output_type": "execute_result"
    },
    {
     "data": {
      "image/png": "[encoded data removed]",
      "text/plain": [
       "<Figure size 432x288 with 1 Axes>"
      ]
     },
     "metadata": {
      "needs_background": "light"
     },
     "output_type": "display_data"
    }
   ],
   "source": [
    "BEP_returns['time_stamp'] = pd.to_datetime(BEP_returns['time_stamp'], errors='coerce')\n",
    "daily_variance_BEP = BEP_returns.groupby(BEP_returns['time_stamp'].dt.floor(\"1D\"))[\"log_return\"].var()\n",
    "plt.plot(daily_variance_BEP.index, daily_variance_BEP.values)\n",
    "plt.xlabel(\"Date\")\n",
    "plt.ylabel(\"Variance\")\n",
    "plt.title(\"BEP Variance\")"
   ]
  },
  {
   "cell_type": "code",
   "execution_count": 40,
   "metadata": {},
   "outputs": [
    {
     "data": {
      "text/plain": [
       "Text(0.5, 1.0, 'LLY Variance')"
      ]
     },
     "execution_count": 40,
     "metadata": {},
     "output_type": "execute_result"
    },
    {
     "data": {
      "image/png": "[encoded data removed]",
      "text/plain": [
       "<Figure size 432x288 with 1 Axes>"
      ]
     },
     "metadata": {
      "needs_background": "light"
     },
     "output_type": "display_data"
    }
   ],
   "source": [
    "df = pd.read_csv(\"data/LLY_combined.csv.gz\")\n",
    "df.columns\n",
    "LLY_returns = pd.DataFrame({\n",
    "    \"time_stamp\": df[\"Unnamed: 0\"],\n",
    "    \"log_return\": np.log(1+(df['4. close']-df['1. open'])/df['1. open'])\n",
    "})\n",
    "LLY_returns['time_stamp'] = pd.to_datetime(LLY_returns['time_stamp'], errors='coerce')\n",
    "daily_variance_LLY = LLY_returns.groupby(LLY_returns['time_stamp'].dt.floor(\"1D\"))[\"log_return\"].var()\n",
    "plt.plot(daily_variance_LLY.index, daily_variance_LLY.values)\n",
    "plt.xlabel(\"Date\")\n",
    "plt.ylabel(\"Variance\")\n",
    "plt.title(\"LLY Variance\")\n"
   ]
  }
 ],
 "metadata": {
  "kernelspec": {
   "display_name": "cse217a",
   "language": "python",
   "name": "python3"
  },
  "language_info": {
   "codemirror_mode": {
    "name": "ipython",
    "version": 3
   },
   "file_extension": ".py",
   "mimetype": "text/x-python",
   "name": "python",
   "nbconvert_exporter": "python",
   "pygments_lexer": "ipython3",
   "version": "3.8.13"
  }
 },
 "nbformat": 4,
 "nbformat_minor": 2
}
