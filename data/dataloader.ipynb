{
 "cells": [
  {
   "cell_type": "code",
   "execution_count": 8,
   "metadata": {},
   "outputs": [],
   "source": [
    "import os\n",
    "import requests\n",
    "import json\n",
    "import gzip\n",
    "import pandas as pd"
   ]
  },
  {
   "cell_type": "code",
   "execution_count": null,
   "metadata": {},
   "outputs": [],
   "source": [
    "companies = ['LLY', 'APPL', 'BEP']\n",
    "params = {'function': 'TIME_SERIES_INTRADAY',\n",
    "          'symbol': 'LLY',\n",
    "          'interval': '1min',\n",
    "          'month': '2023-01',\n",
    "          'outputsize': 'full',\n",
    "          'extended_hours': 'false',\n",
    "          'apikey': os.environ[\"API_KEY\"]\n",
    "          }"
   ]
  },
  {
   "cell_type": "code",
   "execution_count": 4,
   "metadata": {},
   "outputs": [],
   "source": [
    "yyyy = '2025'"
   ]
  },
  {
   "cell_type": "code",
   "execution_count": 5,
   "metadata": {},
   "outputs": [],
   "source": [
    "mm=['01', '02', '03', '04', '05', '06', '07', '08', '09', '10', '11', '12']"
   ]
  },
  {
   "cell_type": "code",
   "execution_count": 10,
   "metadata": {},
   "outputs": [],
   "source": [
    "mm=['01', '02', '03', '04', '05', '06', '07', '08', '09']"
   ]
  },
  {
   "cell_type": "code",
   "execution_count": 16,
   "metadata": {},
   "outputs": [
    {
     "name": "stdout",
     "output_type": "stream",
     "text": [
      "01 7741\n",
      "02 7362\n",
      "03 8132\n",
      "04 8147\n",
      "05 8157\n",
      "06 7686\n",
      "07 8397\n",
      "08 8156\n",
      "09 8110\n"
     ]
    }
   ],
   "source": [
    "for m in mm:\n",
    "    params['month']=yyyy+\"-\"+m\n",
    "    url = \"https://www.alphavantage.co/query?\"\n",
    "    for key, val in params.items():\n",
    "        url+=key\n",
    "        url+='='\n",
    "        url+=val\n",
    "        url+='&'\n",
    "    url = url[:-1]\n",
    "    r = requests.get(url)\n",
    "    data = r.json()\n",
    "    print(m, len(data['Time Series (1min)']))\n",
    "    df = pd.DataFrame.from_dict(data['Time Series (1min)'], orient='index')\n",
    "    df = df.sort_index()\n",
    "    # print(df)\n",
    "    df.to_csv(params['symbol'] + params['month'] + '.csv.gz', compression='gzip')\n",
    "\n"
   ]
  },
  {
   "cell_type": "code",
   "execution_count": 17,
   "metadata": {},
   "outputs": [
    {
     "data": {
      "text/html": [
       "<div>\n",
       "<style scoped>\n",
       "    .dataframe tbody tr th:only-of-type {\n",
       "        vertical-align: middle;\n",
       "    }\n",
       "\n",
       "    .dataframe tbody tr th {\n",
       "        vertical-align: top;\n",
       "    }\n",
       "\n",
       "    .dataframe thead th {\n",
       "        text-align: right;\n",
       "    }\n",
       "</style>\n",
       "<table border=\"1\" class=\"dataframe\">\n",
       "  <thead>\n",
       "    <tr style=\"text-align: right;\">\n",
       "      <th></th>\n",
       "      <th>Unnamed: 0</th>\n",
       "      <th>1. open</th>\n",
       "      <th>2. high</th>\n",
       "      <th>3. low</th>\n",
       "      <th>4. close</th>\n",
       "      <th>5. volume</th>\n",
       "    </tr>\n",
       "  </thead>\n",
       "  <tbody>\n",
       "    <tr>\n",
       "      <th>0</th>\n",
       "      <td>2025-01-02 09:30:00</td>\n",
       "      <td>776.0055</td>\n",
       "      <td>777.9043</td>\n",
       "      <td>774.5640</td>\n",
       "      <td>774.7617</td>\n",
       "      <td>63599</td>\n",
       "    </tr>\n",
       "    <tr>\n",
       "      <th>1</th>\n",
       "      <td>2025-01-02 09:31:00</td>\n",
       "      <td>775.8265</td>\n",
       "      <td>780.6381</td>\n",
       "      <td>775.8265</td>\n",
       "      <td>780.6282</td>\n",
       "      <td>13154</td>\n",
       "    </tr>\n",
       "    <tr>\n",
       "      <th>2</th>\n",
       "      <td>2025-01-02 09:32:00</td>\n",
       "      <td>780.6381</td>\n",
       "      <td>781.1054</td>\n",
       "      <td>778.7493</td>\n",
       "      <td>780.3896</td>\n",
       "      <td>8929</td>\n",
       "    </tr>\n",
       "    <tr>\n",
       "      <th>3</th>\n",
       "      <td>2025-01-02 09:33:00</td>\n",
       "      <td>780.0914</td>\n",
       "      <td>780.0914</td>\n",
       "      <td>779.4949</td>\n",
       "      <td>779.4949</td>\n",
       "      <td>3560</td>\n",
       "    </tr>\n",
       "    <tr>\n",
       "      <th>4</th>\n",
       "      <td>2025-01-02 09:34:00</td>\n",
       "      <td>779.2712</td>\n",
       "      <td>779.5247</td>\n",
       "      <td>777.7552</td>\n",
       "      <td>778.3020</td>\n",
       "      <td>10824</td>\n",
       "    </tr>\n",
       "    <tr>\n",
       "      <th>...</th>\n",
       "      <td>...</td>\n",
       "      <td>...</td>\n",
       "      <td>...</td>\n",
       "      <td>...</td>\n",
       "      <td>...</td>\n",
       "      <td>...</td>\n",
       "    </tr>\n",
       "    <tr>\n",
       "      <th>7736</th>\n",
       "      <td>2025-01-31 15:55:00</td>\n",
       "      <td>807.7380</td>\n",
       "      <td>808.2509</td>\n",
       "      <td>806.5650</td>\n",
       "      <td>807.1018</td>\n",
       "      <td>25666</td>\n",
       "    </tr>\n",
       "    <tr>\n",
       "      <th>7737</th>\n",
       "      <td>2025-01-31 15:56:00</td>\n",
       "      <td>807.2509</td>\n",
       "      <td>807.7380</td>\n",
       "      <td>806.4357</td>\n",
       "      <td>806.6047</td>\n",
       "      <td>27667</td>\n",
       "    </tr>\n",
       "    <tr>\n",
       "      <th>7738</th>\n",
       "      <td>2025-01-31 15:57:00</td>\n",
       "      <td>807.1515</td>\n",
       "      <td>807.6088</td>\n",
       "      <td>806.5749</td>\n",
       "      <td>806.9725</td>\n",
       "      <td>40463</td>\n",
       "    </tr>\n",
       "    <tr>\n",
       "      <th>7739</th>\n",
       "      <td>2025-01-31 15:58:00</td>\n",
       "      <td>806.9924</td>\n",
       "      <td>807.2211</td>\n",
       "      <td>806.2965</td>\n",
       "      <td>806.4059</td>\n",
       "      <td>39389</td>\n",
       "    </tr>\n",
       "    <tr>\n",
       "      <th>7740</th>\n",
       "      <td>2025-01-31 15:59:00</td>\n",
       "      <td>806.7936</td>\n",
       "      <td>807.5392</td>\n",
       "      <td>806.2667</td>\n",
       "      <td>806.3264</td>\n",
       "      <td>47369</td>\n",
       "    </tr>\n",
       "  </tbody>\n",
       "</table>\n",
       "<p>7741 rows × 6 columns</p>\n",
       "</div>"
      ],
      "text/plain": [
       "               Unnamed: 0   1. open   2. high    3. low  4. close  5. volume\n",
       "0     2025-01-02 09:30:00  776.0055  777.9043  774.5640  774.7617      63599\n",
       "1     2025-01-02 09:31:00  775.8265  780.6381  775.8265  780.6282      13154\n",
       "2     2025-01-02 09:32:00  780.6381  781.1054  778.7493  780.3896       8929\n",
       "3     2025-01-02 09:33:00  780.0914  780.0914  779.4949  779.4949       3560\n",
       "4     2025-01-02 09:34:00  779.2712  779.5247  777.7552  778.3020      10824\n",
       "...                   ...       ...       ...       ...       ...        ...\n",
       "7736  2025-01-31 15:55:00  807.7380  808.2509  806.5650  807.1018      25666\n",
       "7737  2025-01-31 15:56:00  807.2509  807.7380  806.4357  806.6047      27667\n",
       "7738  2025-01-31 15:57:00  807.1515  807.6088  806.5749  806.9725      40463\n",
       "7739  2025-01-31 15:58:00  806.9924  807.2211  806.2965  806.4059      39389\n",
       "7740  2025-01-31 15:59:00  806.7936  807.5392  806.2667  806.3264      47369\n",
       "\n",
       "[7741 rows x 6 columns]"
      ]
     },
     "execution_count": 17,
     "metadata": {},
     "output_type": "execute_result"
    }
   ],
   "source": [
    "data = pd.read_csv(\"LLY2025-01.csv.gz\")\n",
    "data"
   ]
  }
 ],
 "metadata": {
  "kernelspec": {
   "display_name": "cse217a",
   "language": "python",
   "name": "python3"
  },
  "language_info": {
   "codemirror_mode": {
    "name": "ipython",
    "version": 3
   },
   "file_extension": ".py",
   "mimetype": "text/x-python",
   "name": "python",
   "nbconvert_exporter": "python",
   "pygments_lexer": "ipython3",
   "version": "3.8.13"
  }
 },
 "nbformat": 4,
 "nbformat_minor": 2
}
