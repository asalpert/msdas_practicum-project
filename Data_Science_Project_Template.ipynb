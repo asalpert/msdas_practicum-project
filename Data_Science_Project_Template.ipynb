{
 "cells": [
  {
   "cell_type": "markdown",
   "id": "eea15116",
   "metadata": {},
   "source": [
    "\n",
    "# Project Title\n",
    "\n",
    "**Financial Market Volatility Predictor**\n",
    "        "
   ]
  },
  {
   "cell_type": "markdown",
   "id": "5f8ea9bf",
   "metadata": {},
   "source": [
    "\n",
    "## Authors and Team\n",
    "\n",
    "- **Author 1**: Abigail Alpert\n",
    "- **Author 2**: Gabi Wurgaft\n",
    "\n",
    "        "
   ]
  },
  {
   "cell_type": "markdown",
   "id": "06cf532e",
   "metadata": {},
   "source": [
    "\n",
    "## Abstract\n",
    "\n",
    "**Provide a brief summary of your project here (150-250 words)**\n",
    "\n",
    "Include the key objectives, methods, and anticipated outcomes of your project.\n",
    "        "
   ]
  },
  {
   "cell_type": "markdown",
   "id": "aa57a788",
   "metadata": {},
   "source": [
    "\n",
    "## Project Description\n",
    "\n",
    "### 4.1 [Problem Definition]\n",
    "\n",
    "#### i. What is the Research Problem that you will be addressing using an Analytical Framework?\n",
    "*We will be addressing the research problem of minimizing investment risk through predicting market volatility. Investment in volatile stocks, such as the three we choose as data, there is a high probability of suffering losses. Through accurate predictions of market volatility, investors are able to make safer investments.*\n",
    "\n",
    "#### ii. Motivation\n",
    "*The volatility of stocks makes investments high-risk and creates uncertainty in profitability for the investors. Recent years have brought a wider availability of market data, both day to day and intraday data. This combined with the many sophisticated techniques developed and low cost of computing power and data storage make this time period uniquely fit for predicting volatility.*\n",
    "\n",
    "#### iii. What decisions will you be impacting?\n",
    "*We will be looking at specific stocks and predicting their future volatility. Through these predictions we will make recommendations to their investors and the general public whether to buy, sell, or short this stock. Our predictions will also assess whether the stock is generally stable or very volatile, which will impact decisions of whether to invest in these stocks in the long term or short term.*\n",
    "\n",
    "#### iv. What is the business/societal value of the decisions to be impacted?\n",
    "*Our financial market volatility forecaster will primarily benefit society/individuals. Our goal is to create a model that can inform people on whether they should or should not invest in a particular stock for short-term gain. By modelling stock volatility, investors will be more informed about the likelihood of how a specific stock will gain and lose value over a short-term timeframe. This information will (hopefully) help minimize risk.*\n",
    "\n",
    "*Additionally, banks and finance firms can also benefit from this tool, as they can use it to better support their customers.*\n",
    "\n",
    "#### v. Why is this project important to you?\n",
    "*When it comes to short-term stock market investments, there is often high risk.  As young, data-driven adults, we would like to have more insight into the market volatility to inform and minimize the risk of our own investment decisions. In addition, Gabi is hoping to work in finance after graduation, and Abigail is planning to work in an area of renewable energy closely tied to energy markets. Gaining a more comprehensive understanding of the US stock market will be beneficial for both of us professionally.*\n",
    "        "
   ]
  },
  {
   "cell_type": "markdown",
   "id": "1faf5938",
   "metadata": {},
   "source": [
    "\n",
    "### 4.2 [Methods]\n",
    "\n",
    "#### i. How are you planning to approach the solution to your research problem?\n",
    "*We are planning to build a predictive model to forecast maket volatility, focusing on three stocks: Apple (APPL), Brookfield Renewable Partners (BEP), and Eli Lilly (LLY). We picked three stocks in different sectors so that we can see which volatility factors exist across sectors and which patterns are sector-specific. We hope to add an LLM component to explain to the user if we recommend investing or not and what risk factors exist.*\n",
    "\n",
    "#### ii. What is the data asset that you plan on using?\n",
    "*We will be scraping the Yahoo finance API for two years of data on stock prices for Apple (APPL), Brookfield Renewable Partners (BEP), and Eli Lilly (LLY). We picked these three stocks to model because they are all in highly volatile sectors of the market (tech, energy, and health). It should be interesting to see how the sector impacts the volatility patterns of these stocks. We hope to supplement the market data by using web scraping to collect data on policy changes since technology, energy, and health are all tied to security and governance regulations. We are hoping that policy changes and market volatility in aligning sectors will be correlated. If the correlation/causal relationship exists, then we can inform users to consider upcoming political changes/events when chosing where to invest.*\n",
    "\n",
    "#### iii. What are the types of analytical frameworks that you would be using?\n",
    "*To start, we plan to collect the data of our three selected stocks over the past two years. We want high frequency data in order to consider intraday returns. Since this is a large quantity of data, we plan to use AWS, specifically Amazon S3 for storage and possibly Amazon Redshift for data warehousing. We will be scraping from the Yahoo finance API, so new data will be added to the database each day as the returns change.*\n",
    "\n",
    "*Initially looking at the data we will perform descriptive analytics. We will draft reports and make observations about the past volatility of these three stocks as well as conditions related to the change in returns. We plan to create dashboards for each stock using Tableau or PowerBI in order to illustrate the trends in volatility.*\n",
    "\n",
    "*As this project is forecasting volatility, we will mainly be performing predictive analytics. We plan to write the models in python using the libraries numpy and pandas for data manipulation and analysis. We will test the performance of a few different volatility forecasting methods on our dataset. One of those will be Yang-Zhang which combines overnight volatility with a weighted average of open to close and Rogers-Satchell (non-zero mean return with open, high, low, close datapoints) volatility. We will also consider GARCH, a weighted average of the long run variance, predicted variance, and variance of the most recent squared residual. Lastly we will consider the HAR-RV (Heterogeneous Autoregressive Realized Volatility) model which adds information from high frequency data, uses cascading series to capture actions of market participants of different time horizons, and uses linear regression to estimate coefficients.*\n",
    "\n",
    "*True volatility is unobservable, so we will use a multitude of values to measure volatility and performance. For volatility, we will consider the metrics of squared return (daily return, squared), realized variance (sum of intraday 15-minute returns), range (difference between high and low squared), and full day realized variance (squared overnight return added to intraday realized variance). To evaluate metric performance, we will use the mean squared error, root mean squared error, mean absolute error, and quasi-likelihood.*\n",
    "\n",
    "*For the prescriptive analytics component of our project, we will incorporate an LLM to interpret the results of our model. The model will output a prediction of future volatility and our LLM will interpret the output using narrative intelligence and communicate this to the user. The LLM will also advise the user on what actions to take based on this prediction. For example, if the user holds shares in the stock and the model predicts the stock will be very volatile in the next week, the LLM will advise the user to sell.*"
   ]
  },
  {
   "cell_type": "markdown",
   "id": "3888d2fe",
   "metadata": {},
   "source": [
    "\n",
    "## Bibliography\n",
    "\n",
    "**List all the references you used to support your project.**\n",
    "\n",
    "- Reference 1: Author(s), Year, Title, Journal/Conference\n",
    "- Reference 2: Author(s), Year, Title, Journal/Conference\n",
    "        "
   ]
  }
 ],
 "metadata": {
  "kernelspec": {
   "display_name": "Python 3 (ipykernel)",
   "language": "python",
   "name": "python3"
  },
  "language_info": {
   "codemirror_mode": {
    "name": "ipython",
    "version": 3
   },
   "file_extension": ".py",
   "mimetype": "text/x-python",
   "name": "python",
   "nbconvert_exporter": "python",
   "pygments_lexer": "ipython3",
   "version": "3.8.13"
  }
 },
 "nbformat": 4,
 "nbformat_minor": 5
}
