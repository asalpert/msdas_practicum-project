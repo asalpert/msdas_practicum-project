{
 "cells": [
  {
   "cell_type": "markdown",
   "id": "eea15116",
   "metadata": {},
   "source": [
    "\n",
    "# Project Title\n",
    "\n",
    "**Financial Market Volatility Predictor**\n",
    "        "
   ]
  },
  {
   "cell_type": "markdown",
   "id": "5f8ea9bf",
   "metadata": {},
   "source": [
    "\n",
    "## Authors and Team\n",
    "\n",
    "- **Author 1**: Abigail Alpert\n",
    "- **Author 2**: Gabi Wurgaft\n",
    "\n",
    "        "
   ]
  },
  {
   "cell_type": "markdown",
   "id": "06cf532e",
   "metadata": {},
   "source": [
    "\n",
    "## Abstract\n",
    "\n",
    "**Provide a brief summary of your project here (150-250 words)**\n",
    "\n",
    "Include the key objectives, methods, and anticipated outcomes of your project.\n",
    "        "
   ]
  },
  {
   "cell_type": "markdown",
   "id": "aa57a788",
   "metadata": {},
   "source": [
    "\n",
    "## Project Description\n",
    "\n",
    "### 4.1 [Problem Definition]\n",
    "\n",
    "#### i. What is the Research Problem that you will be addressing using an Analytical Framework?\n",
    "*Describe the core problem your project aims to solve.*\n",
    "\n",
    "#### ii. Motivation\n",
    "*Explain the motivation behind choosing this problem.*\n",
    "\n",
    "#### iii. What decisions will you be impacting?\n",
    "*Discuss the decisions your project will influence.*\n",
    "\n",
    "#### iv. What is the business/societal value of the decisions to be impacted?\n",
    "*Our financial market volatility forecaster will primarily benefit society/individuals. Our goal is to create a model that can inform people on whether they should or should not invest in a particular stock for short-term gain. By modelling stock volatility, investors will be more informed about the likelihood of how a specific stock will gain and lose value over a short-term timeframe. This information will (hopefully) help minimize risk.*\n",
    "\n",
    "*Additionally, banks and finance firms can also benefit from this tool, as they can use it to better support their customers.*\n",
    "\n",
    "#### v. Why is this project important to you?\n",
    "*When it comes to short-term stock market investments, there is often high risk.  As young, data-driven adults, we would like to have more insight into the market volatility to inform and minimize the risk of our own investment decisions. In addition, Gabi is hoping to work in finance after graduation, and Abigail is planning to work in an area of renewable energy closely tied to energy markets. Gaining a more comprehensive understanding of the US stock market will be beneficial for both of us professionally.*\n",
    "        "
   ]
  },
  {
   "cell_type": "markdown",
   "id": "1faf5938",
   "metadata": {},
   "source": [
    "\n",
    "### 4.2 [Methods]\n",
    "\n",
    "#### i. How are you planning to approach the solution to your research problem?\n",
    "*We are planning to build a predictive model to forecast maket volatility, focusing on three stocks: Apple (APPL), Brookfield Renewable Partners (BEP), and Eli Lilly (LLY). We picked three stocks in different sectors so that we can see which volatility factors exist across sectors and which patterns are sector-specific. We hope to add an LLM component to explain to the user if we recommend investing or not and what risk factors exist.*\n",
    "\n",
    "#### ii. What is the data asset that you plan on using?\n",
    "*We will be scraping the Yahoo finance API for two years of data on stock prices for Apple (APPL), Brookfield Renewable Partners (BEP), and Eli Lilly (LLY). We picked these three stocks to model because they are all in highly volatile sectors of the market (tech, energy, and health). It should be interesting to see how the sector impacts the volatility patterns of these stocks. We hope to supplement the market data by using web scraping to collect data on policy changes since technology, energy, and health are all tied to security and governance regulations. We are hoping that policy changes and market volatility in aligning sectors will be correlated. If the correlation/causal relationship exists, then we can inform users to consider upcoming political changes/events when chosing where to invest.*\n",
    "\n",
    "#### iii. What are the types of analytical frameworks that you would be using?\n",
    "*Discuss the analytical frameworks (descriptive, predictive, prescriptive) and specific models you plan to explore.*\n",
    "        "
   ]
  },
  {
   "cell_type": "markdown",
   "id": "3888d2fe",
   "metadata": {},
   "source": [
    "\n",
    "## Bibliography\n",
    "\n",
    "**List all the references you used to support your project.**\n",
    "\n",
    "- Reference 1: Author(s), Year, Title, Journal/Conference\n",
    "- Reference 2: Author(s), Year, Title, Journal/Conference\n",
    "        "
   ]
  }
 ],
 "metadata": {
  "language_info": {
   "name": "python"
  }
 },
 "nbformat": 4,
 "nbformat_minor": 5
}
